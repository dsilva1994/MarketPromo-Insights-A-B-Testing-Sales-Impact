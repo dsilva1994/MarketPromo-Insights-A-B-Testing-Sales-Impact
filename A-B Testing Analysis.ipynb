{
 "cells": [
  {
   "cell_type": "code",
   "execution_count": null,
   "metadata": {},
   "outputs": [],
   "source": [
    "import pandas as pd\n",
    "import numpy as np\n",
    "import matplotlib.pyplot as plt\n",
    "import seaborn as sns\n",
    "import scipy.stats as stats\n",
    "from scipy.stats import ttest_ind\n",
    "\n",
    "\n",
    "sns.set_theme(\n",
    "    style=\"whitegrid\",\n",
    "    palette=\"muted\",\n",
    "    font_scale=1.2,\n",
    ")\n",
    "\n",
    "\n",
    "plt.rcParams.update(\n",
    "    {\n",
    "        \"figure.figsize\": (8, 5),\n",
    "        \"axes.titlesize\": 14,\n",
    "        \"axes.labelsize\": 12,\n",
    "        \"xtick.labelsize\": 10,\n",
    "        \"ytick.labelsize\": 10,\n",
    "        \"legend.fontsize\": 10,\n",
    "        \"grid.alpha\": 0.3,\n",
    "        \"axes.edgecolor\": \"black\",\n",
    "    }\n",
    ")"
   ]
  },
  {
   "cell_type": "markdown",
   "metadata": {},
   "source": [
    "# 1. INTRODUCTION"
   ]
  },
  {
   "cell_type": "markdown",
   "metadata": {},
   "source": [
    "The fast-food company's marketing unit designed and conducted an A/B test to \n",
    "determine the performance of three promotions on a new item. The intent was to \n",
    "see which promotion generated the most level of sales revenue.\n",
    "\n",
    "The trial was conducted across a number of locations in randomly selected \n",
    "markets across four weeks. Sales revenue at a weekly rate was tracked as the \n",
    "primary basis for comparison.\n",
    "\n",
    "Being a data analyst, the aim of this analysis is to compare the outcome of \n",
    "the experiment, determine which promotion yielded the highest sales revenue, \n",
    "and provide data-driven recommendations to the marketing team regarding the \n",
    "best campaign."
   ]
  },
  {
   "cell_type": "markdown",
   "metadata": {},
   "source": [
    "## 1.1. Success Metric\n",
    "Since the A/B test aims to evaluate which promotion has the greatest impact on \n",
    "the sales revenue of the new product, the revenue will be used as the \n",
    "primary metric. This allows us to determine which promotion generates the \n",
    "higher sales.\n"
   ]
  },
  {
   "cell_type": "markdown",
   "metadata": {},
   "source": [
    "### 1.1.1 Hypothesis\n",
    "\n",
    "To compare the effectiveness of the three promotions, the following hypotheses \n",
    "were formulated:\n",
    "\n",
    "Promotion 1 vs. Promotion 2\n",
    "\n",
    "- H₀: The average revenue of Promotion 1 is equal to the average revenue of Promotion 2\n",
    "- H₁: The average revenue of Promotion 1 is not equal to the average revenue of Promotion 2\n",
    "\n",
    "Promotion 1 vs. Promotion 3\n",
    "\n",
    "- H₀: The average revenue of Promotion 1 is equal to the average revenue of Promotion 3\n",
    "- H₁: The average revenue of Promotion 1 is not equal to the average revenue of Promotion 3\n",
    "\n",
    "Promotion 2 vs. Promotion 3\n",
    "\n",
    "\n",
    "- H₀: The average revenue of Promotion 2 is equal to the average revenue of Promotion 3\n",
    "- H₁: The average revenue of Promotion 2 is not equal to the average revenue of Promotion 3"
   ]
  },
  {
   "cell_type": "markdown",
   "metadata": {},
   "source": [
    "# 2. EXPLORATORY DATA ANALYSIS (EDA)"
   ]
  },
  {
   "cell_type": "markdown",
   "metadata": {},
   "source": [
    "The dataset was sourced from Kaggle, where additional information is provided. \n",
    "[Dataset Link](https://www.kaggle.com/datasets/chebotinaa/fast-food-marketing-campaign-ab-test?resource=download)"
   ]
  },
  {
   "cell_type": "code",
   "execution_count": 3,
   "metadata": {},
   "outputs": [],
   "source": [
    "data = pd.read_csv(\n",
    "    r\"C:\\Users\\diana\\OneDrive\\Ambiente de Trabalho\\A-B Testing Marketing Campaign\\WA_Marketing-Campaign.csv\"\n",
    ")"
   ]
  },
  {
   "cell_type": "code",
   "execution_count": 4,
   "metadata": {},
   "outputs": [
    {
     "data": {
      "text/html": [
       "<div>\n",
       "<style scoped>\n",
       "    .dataframe tbody tr th:only-of-type {\n",
       "        vertical-align: middle;\n",
       "    }\n",
       "\n",
       "    .dataframe tbody tr th {\n",
       "        vertical-align: top;\n",
       "    }\n",
       "\n",
       "    .dataframe thead th {\n",
       "        text-align: right;\n",
       "    }\n",
       "</style>\n",
       "<table border=\"1\" class=\"dataframe\">\n",
       "  <thead>\n",
       "    <tr style=\"text-align: right;\">\n",
       "      <th></th>\n",
       "      <th>MarketID</th>\n",
       "      <th>MarketSize</th>\n",
       "      <th>LocationID</th>\n",
       "      <th>AgeOfStore</th>\n",
       "      <th>Promotion</th>\n",
       "      <th>week</th>\n",
       "      <th>SalesInThousands</th>\n",
       "    </tr>\n",
       "  </thead>\n",
       "  <tbody>\n",
       "    <tr>\n",
       "      <th>502</th>\n",
       "      <td>10</td>\n",
       "      <td>Large</td>\n",
       "      <td>909</td>\n",
       "      <td>1</td>\n",
       "      <td>1</td>\n",
       "      <td>3</td>\n",
       "      <td>66.66</td>\n",
       "    </tr>\n",
       "    <tr>\n",
       "      <th>232</th>\n",
       "      <td>5</td>\n",
       "      <td>Medium</td>\n",
       "      <td>409</td>\n",
       "      <td>14</td>\n",
       "      <td>2</td>\n",
       "      <td>1</td>\n",
       "      <td>43.27</td>\n",
       "    </tr>\n",
       "    <tr>\n",
       "      <th>283</th>\n",
       "      <td>6</td>\n",
       "      <td>Medium</td>\n",
       "      <td>506</td>\n",
       "      <td>12</td>\n",
       "      <td>2</td>\n",
       "      <td>4</td>\n",
       "      <td>19.26</td>\n",
       "    </tr>\n",
       "    <tr>\n",
       "      <th>132</th>\n",
       "      <td>3</td>\n",
       "      <td>Large</td>\n",
       "      <td>215</td>\n",
       "      <td>7</td>\n",
       "      <td>2</td>\n",
       "      <td>1</td>\n",
       "      <td>82.65</td>\n",
       "    </tr>\n",
       "    <tr>\n",
       "      <th>506</th>\n",
       "      <td>10</td>\n",
       "      <td>Large</td>\n",
       "      <td>910</td>\n",
       "      <td>1</td>\n",
       "      <td>1</td>\n",
       "      <td>3</td>\n",
       "      <td>61.95</td>\n",
       "    </tr>\n",
       "    <tr>\n",
       "      <th>262</th>\n",
       "      <td>6</td>\n",
       "      <td>Medium</td>\n",
       "      <td>501</td>\n",
       "      <td>6</td>\n",
       "      <td>3</td>\n",
       "      <td>3</td>\n",
       "      <td>35.10</td>\n",
       "    </tr>\n",
       "    <tr>\n",
       "      <th>82</th>\n",
       "      <td>3</td>\n",
       "      <td>Large</td>\n",
       "      <td>202</td>\n",
       "      <td>8</td>\n",
       "      <td>1</td>\n",
       "      <td>3</td>\n",
       "      <td>81.55</td>\n",
       "    </tr>\n",
       "    <tr>\n",
       "      <th>0</th>\n",
       "      <td>1</td>\n",
       "      <td>Medium</td>\n",
       "      <td>1</td>\n",
       "      <td>4</td>\n",
       "      <td>3</td>\n",
       "      <td>1</td>\n",
       "      <td>33.73</td>\n",
       "    </tr>\n",
       "    <tr>\n",
       "      <th>60</th>\n",
       "      <td>2</td>\n",
       "      <td>Small</td>\n",
       "      <td>103</td>\n",
       "      <td>22</td>\n",
       "      <td>3</td>\n",
       "      <td>1</td>\n",
       "      <td>62.93</td>\n",
       "    </tr>\n",
       "    <tr>\n",
       "      <th>377</th>\n",
       "      <td>7</td>\n",
       "      <td>Medium</td>\n",
       "      <td>615</td>\n",
       "      <td>1</td>\n",
       "      <td>2</td>\n",
       "      <td>2</td>\n",
       "      <td>36.80</td>\n",
       "    </tr>\n",
       "  </tbody>\n",
       "</table>\n",
       "</div>"
      ],
      "text/plain": [
       "     MarketID MarketSize  LocationID  AgeOfStore  Promotion  week  \\\n",
       "502        10      Large         909           1          1     3   \n",
       "232         5     Medium         409          14          2     1   \n",
       "283         6     Medium         506          12          2     4   \n",
       "132         3      Large         215           7          2     1   \n",
       "506        10      Large         910           1          1     3   \n",
       "262         6     Medium         501           6          3     3   \n",
       "82          3      Large         202           8          1     3   \n",
       "0           1     Medium           1           4          3     1   \n",
       "60          2      Small         103          22          3     1   \n",
       "377         7     Medium         615           1          2     2   \n",
       "\n",
       "     SalesInThousands  \n",
       "502             66.66  \n",
       "232             43.27  \n",
       "283             19.26  \n",
       "132             82.65  \n",
       "506             61.95  \n",
       "262             35.10  \n",
       "82              81.55  \n",
       "0               33.73  \n",
       "60              62.93  \n",
       "377             36.80  "
      ]
     },
     "execution_count": 4,
     "metadata": {},
     "output_type": "execute_result"
    }
   ],
   "source": [
    "data.sample(10)"
   ]
  },
  {
   "cell_type": "markdown",
   "metadata": {},
   "source": [
    "- From the sample generated we can oberve that there are different market sizes and different store ages."
   ]
  },
  {
   "cell_type": "code",
   "execution_count": 5,
   "metadata": {},
   "outputs": [
    {
     "name": "stdout",
     "output_type": "stream",
     "text": [
      "<class 'pandas.core.frame.DataFrame'>\n",
      "RangeIndex: 548 entries, 0 to 547\n",
      "Data columns (total 7 columns):\n",
      " #   Column            Non-Null Count  Dtype  \n",
      "---  ------            --------------  -----  \n",
      " 0   MarketID          548 non-null    int64  \n",
      " 1   MarketSize        548 non-null    object \n",
      " 2   LocationID        548 non-null    int64  \n",
      " 3   AgeOfStore        548 non-null    int64  \n",
      " 4   Promotion         548 non-null    int64  \n",
      " 5   week              548 non-null    int64  \n",
      " 6   SalesInThousands  548 non-null    float64\n",
      "dtypes: float64(1), int64(5), object(1)\n",
      "memory usage: 30.1+ KB\n"
     ]
    }
   ],
   "source": [
    "data.info()"
   ]
  },
  {
   "cell_type": "markdown",
   "metadata": {},
   "source": [
    "- The data contains 548 entries and 7 columns, and there are no missing values. "
   ]
  },
  {
   "cell_type": "code",
   "execution_count": 6,
   "metadata": {},
   "outputs": [
    {
     "data": {
      "text/html": [
       "<div>\n",
       "<style scoped>\n",
       "    .dataframe tbody tr th:only-of-type {\n",
       "        vertical-align: middle;\n",
       "    }\n",
       "\n",
       "    .dataframe tbody tr th {\n",
       "        vertical-align: top;\n",
       "    }\n",
       "\n",
       "    .dataframe thead th {\n",
       "        text-align: right;\n",
       "    }\n",
       "</style>\n",
       "<table border=\"1\" class=\"dataframe\">\n",
       "  <thead>\n",
       "    <tr style=\"text-align: right;\">\n",
       "      <th></th>\n",
       "      <th>MarketID</th>\n",
       "      <th>LocationID</th>\n",
       "      <th>AgeOfStore</th>\n",
       "      <th>Promotion</th>\n",
       "      <th>week</th>\n",
       "      <th>SalesInThousands</th>\n",
       "    </tr>\n",
       "  </thead>\n",
       "  <tbody>\n",
       "    <tr>\n",
       "      <th>count</th>\n",
       "      <td>548.000000</td>\n",
       "      <td>548.000000</td>\n",
       "      <td>548.000000</td>\n",
       "      <td>548.000000</td>\n",
       "      <td>548.000000</td>\n",
       "      <td>548.000000</td>\n",
       "    </tr>\n",
       "    <tr>\n",
       "      <th>mean</th>\n",
       "      <td>5.715328</td>\n",
       "      <td>479.656934</td>\n",
       "      <td>8.503650</td>\n",
       "      <td>2.029197</td>\n",
       "      <td>2.500000</td>\n",
       "      <td>53.466204</td>\n",
       "    </tr>\n",
       "    <tr>\n",
       "      <th>std</th>\n",
       "      <td>2.877001</td>\n",
       "      <td>287.973679</td>\n",
       "      <td>6.638345</td>\n",
       "      <td>0.810729</td>\n",
       "      <td>1.119055</td>\n",
       "      <td>16.755216</td>\n",
       "    </tr>\n",
       "    <tr>\n",
       "      <th>min</th>\n",
       "      <td>1.000000</td>\n",
       "      <td>1.000000</td>\n",
       "      <td>1.000000</td>\n",
       "      <td>1.000000</td>\n",
       "      <td>1.000000</td>\n",
       "      <td>17.340000</td>\n",
       "    </tr>\n",
       "    <tr>\n",
       "      <th>25%</th>\n",
       "      <td>3.000000</td>\n",
       "      <td>216.000000</td>\n",
       "      <td>4.000000</td>\n",
       "      <td>1.000000</td>\n",
       "      <td>1.750000</td>\n",
       "      <td>42.545000</td>\n",
       "    </tr>\n",
       "    <tr>\n",
       "      <th>50%</th>\n",
       "      <td>6.000000</td>\n",
       "      <td>504.000000</td>\n",
       "      <td>7.000000</td>\n",
       "      <td>2.000000</td>\n",
       "      <td>2.500000</td>\n",
       "      <td>50.200000</td>\n",
       "    </tr>\n",
       "    <tr>\n",
       "      <th>75%</th>\n",
       "      <td>8.000000</td>\n",
       "      <td>708.000000</td>\n",
       "      <td>12.000000</td>\n",
       "      <td>3.000000</td>\n",
       "      <td>3.250000</td>\n",
       "      <td>60.477500</td>\n",
       "    </tr>\n",
       "    <tr>\n",
       "      <th>max</th>\n",
       "      <td>10.000000</td>\n",
       "      <td>920.000000</td>\n",
       "      <td>28.000000</td>\n",
       "      <td>3.000000</td>\n",
       "      <td>4.000000</td>\n",
       "      <td>99.650000</td>\n",
       "    </tr>\n",
       "  </tbody>\n",
       "</table>\n",
       "</div>"
      ],
      "text/plain": [
       "         MarketID  LocationID  AgeOfStore   Promotion        week  \\\n",
       "count  548.000000  548.000000  548.000000  548.000000  548.000000   \n",
       "mean     5.715328  479.656934    8.503650    2.029197    2.500000   \n",
       "std      2.877001  287.973679    6.638345    0.810729    1.119055   \n",
       "min      1.000000    1.000000    1.000000    1.000000    1.000000   \n",
       "25%      3.000000  216.000000    4.000000    1.000000    1.750000   \n",
       "50%      6.000000  504.000000    7.000000    2.000000    2.500000   \n",
       "75%      8.000000  708.000000   12.000000    3.000000    3.250000   \n",
       "max     10.000000  920.000000   28.000000    3.000000    4.000000   \n",
       "\n",
       "       SalesInThousands  \n",
       "count        548.000000  \n",
       "mean          53.466204  \n",
       "std           16.755216  \n",
       "min           17.340000  \n",
       "25%           42.545000  \n",
       "50%           50.200000  \n",
       "75%           60.477500  \n",
       "max           99.650000  "
      ]
     },
     "execution_count": 6,
     "metadata": {},
     "output_type": "execute_result"
    }
   ],
   "source": [
    "data.describe()"
   ]
  },
  {
   "cell_type": "code",
   "execution_count": 7,
   "metadata": {},
   "outputs": [
    {
     "name": "stdout",
     "output_type": "stream",
     "text": [
      "   Promotion  Count\n",
      "0          1    172\n",
      "1          2    188\n",
      "2          3    188\n"
     ]
    }
   ],
   "source": [
    "occurences_per_promotion = data.groupby(\"Promotion\").size().reset_index(name=\"Count\")\n",
    "print(occurences_per_promotion)"
   ]
  },
  {
   "cell_type": "code",
   "execution_count": 8,
   "metadata": {},
   "outputs": [
    {
     "name": "stdout",
     "output_type": "stream",
     "text": [
      "   Promotion  UniqueLocationCount\n",
      "0          1                   43\n",
      "1          2                   47\n",
      "2          3                   47\n"
     ]
    }
   ],
   "source": [
    "location_counts_per_promotion = (\n",
    "    data.groupby(\"Promotion\")[\"LocationID\"]\n",
    "    .nunique()\n",
    "    .reset_index(name=\"UniqueLocationCount\")\n",
    ")\n",
    "print(location_counts_per_promotion)"
   ]
  },
  {
   "cell_type": "markdown",
   "metadata": {},
   "source": [
    "- At the outset, it's important to note that the number of locations and occurrences is not equal across the three promotions. \n",
    "- However, if the locations in this experiment were determined based on where the company has hubs, then we may not have full control over this variability, as we don't have much insight into the experiment's design, we will proceed with the analysis regardless.\n",
    "\n"
   ]
  },
  {
   "cell_type": "code",
   "execution_count": 28,
   "metadata": {},
   "outputs": [
    {
     "data": {
      "image/png": "[encoded data removed]",
      "text/plain": [
       "<Figure size 800x400 with 1 Axes>"
      ]
     },
     "metadata": {},
     "output_type": "display_data"
    }
   ],
   "source": [
    "market_size_counts = (\n",
    "    data.groupby(\"Promotion\")[\"MarketSize\"].value_counts().reset_index(name=\"Count\")\n",
    ")\n",
    "\n",
    "\n",
    "market_size_pivot = market_size_counts.pivot(\n",
    "    index=\"Promotion\", columns=\"MarketSize\", values=\"Count\"\n",
    ").fillna(0)\n",
    "\n",
    "market_size_pivot.plot(kind=\"bar\", stacked=True, figsize=(8, 4), colormap=\"cividis\")\n",
    "\n",
    "\n",
    "plt.xlabel(\"Promotion\")\n",
    "plt.xticks(rotation=0)\n",
    "plt.ylabel(\"Occurrences\")\n",
    "plt.legend(title=\"Market Size\", loc=\"center right\")\n",
    "plt.title(\"Distribution of Promotions Across Market Sizes\")\n",
    "plt.show()"
   ]
  },
  {
   "cell_type": "markdown",
   "metadata": {},
   "source": [
    "- When looking at the distribution of market sizes across promotions, we can observe variability."
   ]
  },
  {
   "cell_type": "code",
   "execution_count": 18,
   "metadata": {},
   "outputs": [
    {
     "data": {
      "image/png": "[encoded data removed]",
      "text/plain": [
       "<Figure size 800x500 with 1 Axes>"
      ]
     },
     "metadata": {},
     "output_type": "display_data"
    }
   ],
   "source": [
    "sns.set_theme(style=\"whitegrid\")\n",
    "sns.histplot(data=data, x=\"AgeOfStore\", kde=True, color=\"steelblue\", bins=30)\n",
    "plt.xlabel(\"Age of Store\", fontsize=12)\n",
    "plt.ylabel(\"Ocurrences\", fontsize=12)\n",
    "plt.title(\"Distribution of Store Age\", fontsize=14)\n",
    "\n",
    "plt.show()"
   ]
  },
  {
   "cell_type": "markdown",
   "metadata": {},
   "source": [
    "- We also observe that the majority of the stores opened recently, with an average age of 9 years."
   ]
  },
  {
   "cell_type": "markdown",
   "metadata": {},
   "source": [
    "- When designing the experiment, these factors should be taken into account. \n",
    "- For instance, newer stores might not have as many regular customers, and market size could be correlated with sales, influencing the results."
   ]
  },
  {
   "cell_type": "code",
   "execution_count": 37,
   "metadata": {},
   "outputs": [
    {
     "data": {
      "image/png": "[encoded data removed]",
      "text/plain": [
       "<Figure size 800x500 with 1 Axes>"
      ]
     },
     "metadata": {},
     "output_type": "display_data"
    }
   ],
   "source": [
    "sum_sales = data.groupby(\"Promotion\")[\"SalesInThousands\"].mean().reset_index()\n",
    "\n",
    "sns.barplot(data=sum_sales, x=\"Promotion\", y=\"SalesInThousands\", color=\"steelblue\")\n",
    "plt.title(\"Total Revenue Sales Across Promotions and Weeks\")\n",
    "plt.xlabel(\"Promotion\")\n",
    "plt.ylabel(\"Total Revenue (in Thousands)\")\n",
    "plt.show()"
   ]
  },
  {
   "cell_type": "markdown",
   "metadata": {},
   "source": [
    "- From the graph, we can observe differences in revenue across the campaigns over the 4 weeks. \n",
    "- While these differences are evident, statistical tests will provide us with the confidence to determine whether these variations are statistically significant."
   ]
  },
  {
   "cell_type": "markdown",
   "metadata": {},
   "source": [
    "# 3. STATISCAL TESTING"
   ]
  },
  {
   "cell_type": "markdown",
   "metadata": {},
   "source": [
    "- The T-Test is used to compare the means of two groups and determine if there is \n",
    "a statistically significant difference between them (1)(2)\n",
    "- Given that we are analyzing the effectiveness of three different promotional \n",
    "campaigns, we will perform multiple Two-Sample T-Tests to compare the average \n",
    "sales between each pair of promotions.\n",
    "\n",
    "- Before conducting the T-test, we verified that the conditions for its \n",
    "application are met:\n",
    "\n",
    "- Each sample consists of more than 30 data points, ensuring the reliability of \n",
    "the test.\n",
    "- According to the Central Limit Theorem, the sample of means will approximate \n",
    "a normal distribution.\n",
    "\n",
    "However, performing multiple tests increases the risk of Type I errors (α), \n",
    "which occur when the null hypothesis is incorrectly rejected. \n",
    "To account for this, we adjusted the confidence interval to 99%, effectively lowering the \n",
    "probability of observing a false positive. \n",
    "This results in setting α (the significance level) at 0.01, reducing the likelihood of detecting a \n",
    "difference between the promotions when none exists."
   ]
  },
  {
   "cell_type": "markdown",
   "metadata": {},
   "source": [
    "- For each promotion, we calculated the average sales across all locations. This helps compare how each promotion performed on average across locations.\n",
    "\n",
    "- Aggregating at the location level ensures that we're comparing promotions based on their overall performance at each location."
   ]
  },
  {
   "cell_type": "code",
   "execution_count": 12,
   "metadata": {},
   "outputs": [],
   "source": [
    "def perform_ttest(data, promo1, promo2, alpha=0.01):\n",
    "    \"\"\"\n",
    "    Perform T-test between two promotions after aggregating sales by location.\n",
    "\n",
    "    :param data: DataFrame containing sales data\n",
    "    :param promo1: First promotion to compare\n",
    "    :param promo2: Second promotion to compare\n",
    "    :param alpha: Significance level (default is 0.01 for 99% confidence)\n",
    "    \"\"\"\n",
    "    # Aggregate the sales data by location and promotion\n",
    "    promo1_data = (\n",
    "        data[data[\"Promotion\"] == promo1]\n",
    "        .groupby(\"LocationID\")[\"SalesInThousands\"]\n",
    "        .mean()\n",
    "    )\n",
    "    promo2_data = (\n",
    "        data[data[\"Promotion\"] == promo2]\n",
    "        .groupby(\"LocationID\")[\"SalesInThousands\"]\n",
    "        .mean()\n",
    "    )\n",
    "\n",
    "    # Perform T-test between the two groups (Welch's t-test)\n",
    "    t_stat, p_value = stats.ttest_ind(promo1_data, promo2_data, equal_var=False)\n",
    "\n",
    "    print(\n",
    "        f\"T-statistic between Promotion {promo1} and Promotion {promo2}: {t_stat:.4f}\"\n",
    "    )\n",
    "    print(f\"P-value between Promotion {promo1} and Promotion {promo2}: {p_value:.4f}\")\n",
    "\n",
    "    # Compare p-value to the alpha\n",
    "    if p_value < alpha:\n",
    "        print(\n",
    "            f\"Reject the null hypothesis: Significant difference between Promotion {promo1} and Promotion {promo2}\"\n",
    "        )\n",
    "    else:\n",
    "        print(\n",
    "            f\"Fail to reject the null hypothesis: No significant difference between Promotion {promo1} and Promotion {promo2}\"\n",
    "        )"
   ]
  },
  {
   "cell_type": "code",
   "execution_count": 13,
   "metadata": {},
   "outputs": [
    {
     "name": "stdout",
     "output_type": "stream",
     "text": [
      "T-statistic between Promotion 1 and Promotion 2: 3.3321\n",
      "P-value between Promotion 1 and Promotion 2: 0.0013\n",
      "Reject the null hypothesis: Significant difference between Promotion 1 and Promotion 2\n"
     ]
    }
   ],
   "source": [
    "perform_ttest(data, promo1=1, promo2=2, alpha=0.01)"
   ]
  },
  {
   "cell_type": "code",
   "execution_count": 14,
   "metadata": {},
   "outputs": [
    {
     "name": "stdout",
     "output_type": "stream",
     "text": [
      "T-statistic between Promotion 1 and Promotion 3: 0.7999\n",
      "P-value between Promotion 1 and Promotion 3: 0.4259\n",
      "Fail to reject the null hypothesis: No significant difference between Promotion 1 and Promotion 3\n"
     ]
    }
   ],
   "source": [
    "perform_ttest(data, promo1=1, promo2=3, alpha=0.01)"
   ]
  },
  {
   "cell_type": "code",
   "execution_count": 15,
   "metadata": {},
   "outputs": [
    {
     "name": "stdout",
     "output_type": "stream",
     "text": [
      "T-statistic between Promotion 2 and Promotion 3: -2.5180\n",
      "P-value between Promotion 2 and Promotion 3: 0.0136\n",
      "Fail to reject the null hypothesis: No significant difference between Promotion 2 and Promotion 3\n"
     ]
    }
   ],
   "source": [
    "perform_ttest(data, promo1=2, promo2=3, alpha=0.01)"
   ]
  },
  {
   "cell_type": "markdown",
   "metadata": {},
   "source": [
    " - When performing multiple comparisons, applying the Bonferroni correction is recommended as it helps control the overall Type I error rate. \n",
    " - However, this adjustment becomes more impactful when a larger number of tests are being conducted, here it's not the case so we will skip it. \n"
   ]
  },
  {
   "cell_type": "markdown",
   "metadata": {},
   "source": [
    "# 5. Results Interpretation"
   ]
  },
  {
   "cell_type": "markdown",
   "metadata": {},
   "source": [
    "Interpreting Results:\n",
    "- If p-value < 0.05: We can reject the null hypothesis (H₀) and conclude that \n",
    "there is a statistically significant difference between the two promotions.\n",
    "- If p-value ≥ 0.05: We cannot reject the null hypothesis, meaning there's no \n",
    "significant difference between the two promotions.\n"
   ]
  },
  {
   "cell_type": "markdown",
   "metadata": {},
   "source": [
    "From the results, we observe that :\n",
    "\n",
    "- Promotion 1 generated significantly higher revenue compared to Promotion 2, \n",
    "with total sales of 9993.03 and 8897.93, respectively, which is approximately \n",
    "10.97% higher, with a p-value = 0.0013\n",
    "\n",
    "- Promotion 2 underperformed significantly in revenue compared to Promotion 3\n",
    "(8897.93 vs. 10408.52), with Promotion 3 performing 16.98% better, with a test \n",
    "p-value = 0.0136.\n",
    "\n",
    "- The difference in revenue between Promotion 1 and Promotion 3 \n",
    "(9993.03 vs. 10408.52) was not statistically significant, with a \n",
    "p-value = 0.4259.\n"
   ]
  },
  {
   "cell_type": "markdown",
   "metadata": {},
   "source": [
    "# 6. Recomendtation & Next Steps"
   ]
  },
  {
   "cell_type": "markdown",
   "metadata": {},
   "source": [
    "- Based on the analysis, it is suggested to discontinue \n",
    "Promotion 2 in favor of either Promotion 1 or Promotion 3, as these two have shown better performance. \n",
    "- However, to make a more informed decision between the two, a follow-up experiment should be conducted where Promotion 1 and Promotion 3 are directly compared to each other.\n"
   ]
  },
  {
   "cell_type": "markdown",
   "metadata": {},
   "source": [
    "## 6.1. Limitations"
   ]
  },
  {
   "cell_type": "markdown",
   "metadata": {},
   "source": [
    "\n",
    "There are a few limitations to this A/B test:\n",
    "- Firstly, the experiment was conducted over a 4-week period, which may not fully capture the long-term effects of these promotional campaigns. \n",
    "- Extending the testing period could provide a more comprehensive view of the campaigns' performance. \n",
    "- Additionally, confounding variables may have influenced the results, and proper research should have been conducted to identify and control for these variables prior to running the experiment (3)(4).\n",
    "\n"
   ]
  },
  {
   "cell_type": "markdown",
   "metadata": {},
   "source": [
    "# 7. RESOURCES"
   ]
  },
  {
   "cell_type": "markdown",
   "metadata": {},
   "source": [
    "\n",
    "- (1) [T.Test Video](https://www.youtube.com/watch?v=pTmLQvMM-1M)\n",
    "- (2) [More on Multiple comparisons problem](https://en.wikipedia.org/wiki/Multiple_comparisons_problem)\n",
    "- (3) [Confounding variables](https://www.sciencedirect.com/science/article/pii/S0085253815529748)\n",
    "- (4) [Confounding variables](https://medium.com/@jhalaksurve/understanding-confounding-variables-a-comprehensive-guide-846b30462b6b)\n"
   ]
  }
 ],
 "metadata": {
  "kernelspec": {
   "display_name": "base",
   "language": "python",
   "name": "python3"
  },
  "language_info": {
   "codemirror_mode": {
    "name": "ipython",
    "version": 3
   },
   "file_extension": ".py",
   "mimetype": "text/x-python",
   "name": "python",
   "nbconvert_exporter": "python",
   "pygments_lexer": "ipython3",
   "version": "3.12.3"
  }
 },
 "nbformat": 4,
 "nbformat_minor": 2
}
